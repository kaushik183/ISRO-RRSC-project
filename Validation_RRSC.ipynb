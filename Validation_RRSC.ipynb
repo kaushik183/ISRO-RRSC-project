{
  "nbformat": 4,
  "nbformat_minor": 0,
  "metadata": {
    "colab": {
      "provenance": [],
      "authorship_tag": "ABX9TyPWnjMxtq0ajekYyV/swAUP",
      "include_colab_link": true
    },
    "kernelspec": {
      "name": "python3",
      "display_name": "Python 3"
    },
    "language_info": {
      "name": "python"
    }
  },
  "cells": [
    {
      "cell_type": "markdown",
      "metadata": {
        "id": "view-in-github",
        "colab_type": "text"
      },
      "source": [
        "<a href=\"https://colab.research.google.com/github/kaushik183/ml/blob/main/Validation_RRSC.ipynb\" target=\"_parent\"><img src=\"https://colab.research.google.com/assets/colab-badge.svg\" alt=\"Open In Colab\"/></a>"
      ]
    },
    {
      "cell_type": "code",
      "execution_count": null,
      "metadata": {
        "colab": {
          "base_uri": "https://localhost:8080/"
        },
        "id": "7Dv-Q-hFJ2uI",
        "outputId": "922c74e6-34b6-4748-d6dd-7df9fdea11b3"
      },
      "outputs": [
        {
          "output_type": "stream",
          "name": "stdout",
          "text": [
            "Drive already mounted at /content/gdrive; to attempt to forcibly remount, call drive.mount(\"/content/gdrive\", force_remount=True).\n"
          ]
        }
      ],
      "source": [
        "from google.colab import drive\n",
        "drive.mount(\"/content/gdrive\")"
      ]
    },
    {
      "cell_type": "code",
      "source": [
        "!pip install ultralytics"
      ],
      "metadata": {
        "colab": {
          "base_uri": "https://localhost:8080/"
        },
        "id": "lAIGVm7aJ9yR",
        "outputId": "8a9dd3f5-2bbf-4715-b843-d12c387c786e"
      },
      "execution_count": null,
      "outputs": [
        {
          "output_type": "stream",
          "name": "stdout",
          "text": [
            "Looking in indexes: https://pypi.org/simple, https://us-python.pkg.dev/colab-wheels/public/simple/\n",
            "Collecting ultralytics\n",
            "  Downloading ultralytics-8.0.88-py3-none-any.whl (530 kB)\n",
            "\u001b[2K     \u001b[90m━━━━━━━━━━━━━━━━━━━━━━━━━━━━━━━━━━━━━━━\u001b[0m \u001b[32m530.4/530.4 kB\u001b[0m \u001b[31m8.9 MB/s\u001b[0m eta \u001b[36m0:00:00\u001b[0m\n",
            "\u001b[?25hRequirement already satisfied: psutil in /usr/local/lib/python3.9/dist-packages (from ultralytics) (5.9.5)\n",
            "Collecting sentry-sdk\n",
            "  Downloading sentry_sdk-1.21.0-py2.py3-none-any.whl (199 kB)\n",
            "\u001b[2K     \u001b[90m━━━━━━━━━━━━━━━━━━━━━━━━━━━━━━━━━━━━━━\u001b[0m \u001b[32m199.5/199.5 kB\u001b[0m \u001b[31m24.2 MB/s\u001b[0m eta \u001b[36m0:00:00\u001b[0m\n",
            "\u001b[?25hRequirement already satisfied: PyYAML>=5.3.1 in /usr/local/lib/python3.9/dist-packages (from ultralytics) (6.0)\n",
            "Requirement already satisfied: opencv-python>=4.6.0 in /usr/local/lib/python3.9/dist-packages (from ultralytics) (4.7.0.72)\n",
            "Requirement already satisfied: requests>=2.23.0 in /usr/local/lib/python3.9/dist-packages (from ultralytics) (2.27.1)\n",
            "Requirement already satisfied: torchvision>=0.8.1 in /usr/local/lib/python3.9/dist-packages (from ultralytics) (0.15.1+cu118)\n",
            "Requirement already satisfied: matplotlib>=3.2.2 in /usr/local/lib/python3.9/dist-packages (from ultralytics) (3.7.1)\n",
            "Requirement already satisfied: numpy>=1.21.6 in /usr/local/lib/python3.9/dist-packages (from ultralytics) (1.22.4)\n",
            "Requirement already satisfied: scipy>=1.4.1 in /usr/local/lib/python3.9/dist-packages (from ultralytics) (1.10.1)\n",
            "Requirement already satisfied: seaborn>=0.11.0 in /usr/local/lib/python3.9/dist-packages (from ultralytics) (0.12.2)\n",
            "Collecting thop>=0.1.1\n",
            "  Downloading thop-0.1.1.post2209072238-py3-none-any.whl (15 kB)\n",
            "Requirement already satisfied: tqdm>=4.64.0 in /usr/local/lib/python3.9/dist-packages (from ultralytics) (4.65.0)\n",
            "Requirement already satisfied: pandas>=1.1.4 in /usr/local/lib/python3.9/dist-packages (from ultralytics) (1.5.3)\n",
            "Requirement already satisfied: torch>=1.7.0 in /usr/local/lib/python3.9/dist-packages (from ultralytics) (2.0.0+cu118)\n",
            "Requirement already satisfied: Pillow>=7.1.2 in /usr/local/lib/python3.9/dist-packages (from ultralytics) (8.4.0)\n",
            "Requirement already satisfied: contourpy>=1.0.1 in /usr/local/lib/python3.9/dist-packages (from matplotlib>=3.2.2->ultralytics) (1.0.7)\n",
            "Requirement already satisfied: packaging>=20.0 in /usr/local/lib/python3.9/dist-packages (from matplotlib>=3.2.2->ultralytics) (23.1)\n",
            "Requirement already satisfied: pyparsing>=2.3.1 in /usr/local/lib/python3.9/dist-packages (from matplotlib>=3.2.2->ultralytics) (3.0.9)\n",
            "Requirement already satisfied: importlib-resources>=3.2.0 in /usr/local/lib/python3.9/dist-packages (from matplotlib>=3.2.2->ultralytics) (5.12.0)\n",
            "Requirement already satisfied: kiwisolver>=1.0.1 in /usr/local/lib/python3.9/dist-packages (from matplotlib>=3.2.2->ultralytics) (1.4.4)\n",
            "Requirement already satisfied: python-dateutil>=2.7 in /usr/local/lib/python3.9/dist-packages (from matplotlib>=3.2.2->ultralytics) (2.8.2)\n",
            "Requirement already satisfied: fonttools>=4.22.0 in /usr/local/lib/python3.9/dist-packages (from matplotlib>=3.2.2->ultralytics) (4.39.3)\n",
            "Requirement already satisfied: cycler>=0.10 in /usr/local/lib/python3.9/dist-packages (from matplotlib>=3.2.2->ultralytics) (0.11.0)\n",
            "Requirement already satisfied: pytz>=2020.1 in /usr/local/lib/python3.9/dist-packages (from pandas>=1.1.4->ultralytics) (2022.7.1)\n",
            "Requirement already satisfied: urllib3<1.27,>=1.21.1 in /usr/local/lib/python3.9/dist-packages (from requests>=2.23.0->ultralytics) (1.26.15)\n",
            "Requirement already satisfied: idna<4,>=2.5 in /usr/local/lib/python3.9/dist-packages (from requests>=2.23.0->ultralytics) (3.4)\n",
            "Requirement already satisfied: charset-normalizer~=2.0.0 in /usr/local/lib/python3.9/dist-packages (from requests>=2.23.0->ultralytics) (2.0.12)\n",
            "Requirement already satisfied: certifi>=2017.4.17 in /usr/local/lib/python3.9/dist-packages (from requests>=2.23.0->ultralytics) (2022.12.7)\n",
            "Requirement already satisfied: jinja2 in /usr/local/lib/python3.9/dist-packages (from torch>=1.7.0->ultralytics) (3.1.2)\n",
            "Requirement already satisfied: filelock in /usr/local/lib/python3.9/dist-packages (from torch>=1.7.0->ultralytics) (3.12.0)\n",
            "Requirement already satisfied: typing-extensions in /usr/local/lib/python3.9/dist-packages (from torch>=1.7.0->ultralytics) (4.5.0)\n",
            "Requirement already satisfied: sympy in /usr/local/lib/python3.9/dist-packages (from torch>=1.7.0->ultralytics) (1.11.1)\n",
            "Requirement already satisfied: triton==2.0.0 in /usr/local/lib/python3.9/dist-packages (from torch>=1.7.0->ultralytics) (2.0.0)\n",
            "Requirement already satisfied: networkx in /usr/local/lib/python3.9/dist-packages (from torch>=1.7.0->ultralytics) (3.1)\n",
            "Requirement already satisfied: lit in /usr/local/lib/python3.9/dist-packages (from triton==2.0.0->torch>=1.7.0->ultralytics) (16.0.2)\n",
            "Requirement already satisfied: cmake in /usr/local/lib/python3.9/dist-packages (from triton==2.0.0->torch>=1.7.0->ultralytics) (3.25.2)\n",
            "Requirement already satisfied: zipp>=3.1.0 in /usr/local/lib/python3.9/dist-packages (from importlib-resources>=3.2.0->matplotlib>=3.2.2->ultralytics) (3.15.0)\n",
            "Requirement already satisfied: six>=1.5 in /usr/local/lib/python3.9/dist-packages (from python-dateutil>=2.7->matplotlib>=3.2.2->ultralytics) (1.16.0)\n",
            "Requirement already satisfied: MarkupSafe>=2.0 in /usr/local/lib/python3.9/dist-packages (from jinja2->torch>=1.7.0->ultralytics) (2.1.2)\n",
            "Requirement already satisfied: mpmath>=0.19 in /usr/local/lib/python3.9/dist-packages (from sympy->torch>=1.7.0->ultralytics) (1.3.0)\n",
            "Installing collected packages: sentry-sdk, thop, ultralytics\n",
            "Successfully installed sentry-sdk-1.21.0 thop-0.1.1.post2209072238 ultralytics-8.0.88\n"
          ]
        }
      ]
    },
    {
      "cell_type": "code",
      "source": [
        "!yolo task=segment mode=predict model='/content/gdrive/MyDrive/YOLOV8/ultralytics/runs/segment/train11/weights/last.pt' source='/content/gdrive/MyDrive/YOLOV8/val/images' conf=0.20"
      ],
      "metadata": {
        "colab": {
          "base_uri": "https://localhost:8080/"
        },
        "id": "Y0G80o8bLhKs",
        "outputId": "f1a478a4-f743-4dce-c20b-e01ce2140900"
      },
      "execution_count": null,
      "outputs": [
        {
          "output_type": "stream",
          "name": "stdout",
          "text": [
            "Ultralytics YOLOv8.0.88 🚀 Python-3.9.16 torch-2.0.0+cu118 CPU\n",
            "YOLOv8x-seg_custom summary (fused): 295 layers, 71722582 parameters, 0 gradients, 343.7 GFLOPs\n",
            "\n",
            "image 1/165 /content/gdrive/MyDrive/YOLOV8/val/images/102_png.rf.bda3cc101e9d654dcaa0dda1989d9a3f.jpg: 640x640 (no detections), 6153.8ms\n",
            "image 2/165 /content/gdrive/MyDrive/YOLOV8/val/images/105_png.rf.69ee6bee2fe90c4330b0aa70c8881a4d.jpg: 640x640 1 Khadin, 1 Pond, 8703.1ms\n",
            "image 3/165 /content/gdrive/MyDrive/YOLOV8/val/images/109_png.rf.92437c593473fabcc68ebbaf56f658d1.jpg: 640x640 3 Khadins, 5652.3ms\n",
            "image 4/165 /content/gdrive/MyDrive/YOLOV8/val/images/119_png.rf.55d254a2825b8088565ced353e98455b.jpg: 640x640 1 Khadin, 7842.0ms\n",
            "image 5/165 /content/gdrive/MyDrive/YOLOV8/val/images/121_png.rf.2b929acd2daef8bae92dc2b6174a6485.jpg: 640x640 (no detections), 5599.8ms\n",
            "image 6/165 /content/gdrive/MyDrive/YOLOV8/val/images/124_png.rf.734bab668e4902aa75b429fd5d30c9b1.jpg: 640x640 1 Pond, 7325.0ms\n",
            "image 7/165 /content/gdrive/MyDrive/YOLOV8/val/images/129_png.rf.6c029155bb6f2cd9eeee49593383dc78.jpg: 640x640 (no detections), 5906.0ms\n",
            "image 8/165 /content/gdrive/MyDrive/YOLOV8/val/images/130_png.rf.a37ba6c0e68738a06d4bf5810c4c1903.jpg: 640x640 (no detections), 6178.5ms\n",
            "image 9/165 /content/gdrive/MyDrive/YOLOV8/val/images/139_png.rf.70a55aa4586f8f984a90d06c39f9c1de.jpg: 640x640 1 Khadin, 7118.9ms\n",
            "image 10/165 /content/gdrive/MyDrive/YOLOV8/val/images/13_png.rf.1f75d25a50f1cd65819df9b09ec96089.jpg: 640x640 2 Khadins, 2 Ponds, 5619.3ms\n",
            "image 11/165 /content/gdrive/MyDrive/YOLOV8/val/images/145_png.rf.f8c9f2d455f867ac70f4fafba2f10f3b.jpg: 640x640 1 Pond, 7781.6ms\n",
            "image 12/165 /content/gdrive/MyDrive/YOLOV8/val/images/151_png.rf.be40c296c755fa806891adb90fad5739.jpg: 640x640 1 Pond, 5566.2ms\n",
            "image 13/165 /content/gdrive/MyDrive/YOLOV8/val/images/161_png.rf.c6735f075767a5d62ea50574f5e857cc.jpg: 640x640 (no detections), 7703.1ms\n",
            "image 14/165 /content/gdrive/MyDrive/YOLOV8/val/images/162_png.rf.b365bcd375646690e5a30a85db06d984.jpg: 640x640 (no detections), 5592.4ms\n",
            "image 15/165 /content/gdrive/MyDrive/YOLOV8/val/images/165_png.rf.fa5f4d9f49907fd41ec0076a23734deb.jpg: 640x640 (no detections), 6611.2ms\n",
            "image 16/165 /content/gdrive/MyDrive/YOLOV8/val/images/169_png.rf.541d3350c16e2ae2c004937e3eeae890.jpg: 640x640 (no detections), 6552.7ms\n",
            "image 17/165 /content/gdrive/MyDrive/YOLOV8/val/images/172_png.rf.67f0b19a5b13675a5640a70a7a96da22.jpg: 640x640 (no detections), 5660.3ms\n",
            "image 18/165 /content/gdrive/MyDrive/YOLOV8/val/images/173_png.rf.da0adcb9fad042db377834c3e043a79d.jpg: 640x640 (no detections), 7667.8ms\n",
            "image 19/165 /content/gdrive/MyDrive/YOLOV8/val/images/174_png.rf.4891ddc9c0b589438d3814f7b82eb813.jpg: 640x640 (no detections), 5588.3ms\n",
            "image 20/165 /content/gdrive/MyDrive/YOLOV8/val/images/178_png.rf.633958a61fa31b50e486e99f9602ec00.jpg: 640x640 (no detections), 7765.1ms\n",
            "image 21/165 /content/gdrive/MyDrive/YOLOV8/val/images/179_png.rf.e47cd5ae8307db49b690b9f8aba1a9e7.jpg: 640x640 (no detections), 5656.8ms\n",
            "image 22/165 /content/gdrive/MyDrive/YOLOV8/val/images/180_png.rf.3f06bcadf61aa47284573f15dafb601f.jpg: 640x640 3 Ponds, 7352.0ms\n",
            "image 23/165 /content/gdrive/MyDrive/YOLOV8/val/images/183_png.rf.840ee08caa85c77e69bcb0e3080c7847.jpg: 640x640 (no detections), 5919.4ms\n",
            "image 24/165 /content/gdrive/MyDrive/YOLOV8/val/images/188_png.rf.2e548debe86edc312fae1761411e3a60.jpg: 640x640 (no detections), 6065.5ms\n",
            "image 25/165 /content/gdrive/MyDrive/YOLOV8/val/images/192_png.rf.139b9818d52b8741533166dc2d7bc6ee.jpg: 640x640 (no detections), 7171.3ms\n",
            "image 26/165 /content/gdrive/MyDrive/YOLOV8/val/images/201_png.rf.b5e98e61bc8af53238ec00ed269d55d5.jpg: 640x640 (no detections), 5604.5ms\n",
            "image 27/165 /content/gdrive/MyDrive/YOLOV8/val/images/202_png.rf.1e981e2de668360b4fb034206f1b1501.jpg: 640x640 (no detections), 7770.1ms\n",
            "image 28/165 /content/gdrive/MyDrive/YOLOV8/val/images/203_png.rf.84c3f9e40e9cf107bcc3d0384213838c.jpg: 640x640 (no detections), 5591.6ms\n",
            "image 29/165 /content/gdrive/MyDrive/YOLOV8/val/images/205_png.rf.833c0753f72aec5076385c95eaf9c9f8.jpg: 640x640 (no detections), 7705.4ms\n",
            "image 30/165 /content/gdrive/MyDrive/YOLOV8/val/images/214_png.rf.22f03facd94b6320f5c7541785264260.jpg: 640x640 (no detections), 5620.8ms\n",
            "image 31/165 /content/gdrive/MyDrive/YOLOV8/val/images/221_png.rf.aebfab1b982daa666eb532e8edca6149.jpg: 640x640 (no detections), 6523.3ms\n",
            "image 32/165 /content/gdrive/MyDrive/YOLOV8/val/images/222_png.rf.9d40a271766de58d592241ca6de00568.jpg: 640x640 (no detections), 6650.7ms\n",
            "image 33/165 /content/gdrive/MyDrive/YOLOV8/val/images/226_png.rf.d4e2a68abe7052855abaa8179a8a435a.jpg: 640x640 (no detections), 5566.3ms\n",
            "image 34/165 /content/gdrive/MyDrive/YOLOV8/val/images/230_png.rf.8f57121071c7b648876c188e887cb199.jpg: 640x640 (no detections), 7743.9ms\n",
            "image 35/165 /content/gdrive/MyDrive/YOLOV8/val/images/249_png.rf.0bd93a3bba8ab58638db8f92249b9663.jpg: 640x640 (no detections), 5601.5ms\n",
            "image 36/165 /content/gdrive/MyDrive/YOLOV8/val/images/250_png.rf.c277cc01e51bfe7486ea7831013e98ac.jpg: 640x640 (no detections), 7712.4ms\n",
            "image 37/165 /content/gdrive/MyDrive/YOLOV8/val/images/251_png.rf.bceb782cd6938980766190049e1e2be7.jpg: 640x640 (no detections), 5612.2ms\n",
            "image 38/165 /content/gdrive/MyDrive/YOLOV8/val/images/258_png.rf.d8f184d9c981800613a2a4b3430b70da.jpg: 640x640 1 Pond, 6961.8ms\n",
            "image 39/165 /content/gdrive/MyDrive/YOLOV8/val/images/275_png.rf.32752460886f5826c7e89f9ad712f73c.jpg: 640x640 (no detections), 6254.7ms\n",
            "image 40/165 /content/gdrive/MyDrive/YOLOV8/val/images/284_png.rf.14ea00874be2624a0a3b2abb3458a53c.jpg: 640x640 1 Pond, 5818.2ms\n",
            "image 41/165 /content/gdrive/MyDrive/YOLOV8/val/images/286_png.rf.49aa21d3a41482aa8b143e01d2f2dba6.jpg: 640x640 (no detections), 9589.0ms\n",
            "image 42/165 /content/gdrive/MyDrive/YOLOV8/val/images/294_png.rf.6834f653c295a8f38bffed2a3c77e79a.jpg: 640x640 (no detections), 5573.5ms\n",
            "image 43/165 /content/gdrive/MyDrive/YOLOV8/val/images/2_png.rf.1663fef1784f5dc34c1c0b9b8ed43a01.jpg: 640x640 1 Khadin, 6903.5ms\n",
            "image 44/165 /content/gdrive/MyDrive/YOLOV8/val/images/302_png.rf.e47360f6f40b5f71830ad1705ef50f05.jpg: 640x640 2 Ponds, 6239.8ms\n",
            "image 45/165 /content/gdrive/MyDrive/YOLOV8/val/images/304_png.rf.504b106c62dfc0a64b7b77910eacc93d.jpg: 640x640 (no detections), 5677.3ms\n",
            "image 46/165 /content/gdrive/MyDrive/YOLOV8/val/images/308_png.rf.073e67bf22ad266754558c3d596a1edf.jpg: 640x640 3 Ponds, 7547.0ms\n",
            "image 47/165 /content/gdrive/MyDrive/YOLOV8/val/images/309_png.rf.db73632a3d7aea81d55f5843bc834c2e.jpg: 640x640 (no detections), 5600.7ms\n",
            "image 48/165 /content/gdrive/MyDrive/YOLOV8/val/images/310_png.rf.348e97853678c4b63edf686cf39cde50.jpg: 640x640 2 Khadins, 7752.0ms\n",
            "image 49/165 /content/gdrive/MyDrive/YOLOV8/val/images/316_png.rf.51ac64f73017b4cf3ba3b49eb9dd41e9.jpg: 640x640 (no detections), 5621.7ms\n",
            "image 50/165 /content/gdrive/MyDrive/YOLOV8/val/images/320_png.rf.915c69af202997aa692a65276e56b573.jpg: 640x640 (no detections), 7498.1ms\n",
            "image 51/165 /content/gdrive/MyDrive/YOLOV8/val/images/32_png.rf.66bbe0e3eaf3750ac8ba957aca08ab36.jpg: 640x640 2 Ponds, 5789.8ms\n",
            "image 52/165 /content/gdrive/MyDrive/YOLOV8/val/images/334_png.rf.79d2b92a7987e62331d403147ced631a.jpg: 640x640 (no detections), 6223.8ms\n",
            "image 53/165 /content/gdrive/MyDrive/YOLOV8/val/images/337_png.rf.a8b96998f6522860980d4d9683d93c71.jpg: 640x640 1 Khadin, 1 Pond, 6984.7ms\n",
            "image 54/165 /content/gdrive/MyDrive/YOLOV8/val/images/341_png.rf.bf6790e16cf656f30683dbd7bd9c6a63.jpg: 640x640 (no detections), 5643.5ms\n",
            "image 55/165 /content/gdrive/MyDrive/YOLOV8/val/images/349_png.rf.c6af09ae2b829d4881d062d231c6c4d5.jpg: 640x640 (no detections), 7751.6ms\n",
            "image 56/165 /content/gdrive/MyDrive/YOLOV8/val/images/34_png.rf.5f5712e931c15e2d6f14fb4eda8b97b6.jpg: 640x640 1 Khadin, 5613.5ms\n",
            "image 57/165 /content/gdrive/MyDrive/YOLOV8/val/images/351_png.rf.3302611f5ebb69c256ba5915c91e2690.jpg: 640x640 (no detections), 7692.3ms\n",
            "image 58/165 /content/gdrive/MyDrive/YOLOV8/val/images/352_png.rf.49d05cc3cb6972ec2f46b9341f360ee1.jpg: 640x640 (no detections), 5610.9ms\n",
            "image 59/165 /content/gdrive/MyDrive/YOLOV8/val/images/353_png.rf.fa088fae725d1b7ff1b7d9964ca7b97c.jpg: 640x640 (no detections), 6755.8ms\n",
            "image 60/165 /content/gdrive/MyDrive/YOLOV8/val/images/355_png.rf.1a9b5024119be595d40d93c6314919cc.jpg: 640x640 (no detections), 6424.3ms\n",
            "image 61/165 /content/gdrive/MyDrive/YOLOV8/val/images/358_png.rf.033fec9779bcfffabbf8c76a17bf3758.jpg: 640x640 (no detections), 5558.8ms\n",
            "image 62/165 /content/gdrive/MyDrive/YOLOV8/val/images/370_png.rf.7f3d1e639c4e5e941b265b67d1e7974e.jpg: 640x640 (no detections), 7692.3ms\n",
            "image 63/165 /content/gdrive/MyDrive/YOLOV8/val/images/372_png.rf.64949732f1380b9561a3419b783989de.jpg: 640x640 (no detections), 5641.2ms\n",
            "image 64/165 /content/gdrive/MyDrive/YOLOV8/val/images/377_png.rf.ebc0562879b0cf4f619aefb69f4eb80a.jpg: 640x640 (no detections), 7772.5ms\n",
            "image 65/165 /content/gdrive/MyDrive/YOLOV8/val/images/378_png.rf.d4c52bbe4c3a30ff6d74329dcc02dada.jpg: 640x640 5 Ponds, 5608.8ms\n",
            "image 66/165 /content/gdrive/MyDrive/YOLOV8/val/images/379_png.rf.ae3f815bfcd96ce1346bc76f5a0237a8.jpg: 640x640 (no detections), 7434.5ms\n",
            "image 67/165 /content/gdrive/MyDrive/YOLOV8/val/images/383_png.rf.1bd4c7edf530bf8e4f37d138ddd55e40.jpg: 640x640 (no detections), 5910.8ms\n",
            "image 68/165 /content/gdrive/MyDrive/YOLOV8/val/images/384_png.rf.e2c4bdf42038bc7dde66ace2942ba62e.jpg: 640x640 (no detections), 6147.1ms\n",
            "image 69/165 /content/gdrive/MyDrive/YOLOV8/val/images/390_png.rf.90bc6bd67fc404f5fe8c57bbbd6496d7.jpg: 640x640 2 Ponds, 7080.0ms\n",
            "image 70/165 /content/gdrive/MyDrive/YOLOV8/val/images/396_png.rf.2c46c6c303155579015ec41d4d585d61.jpg: 640x640 1 Pond, 5580.8ms\n",
            "image 71/165 /content/gdrive/MyDrive/YOLOV8/val/images/39_png.rf.72fdb731a9c0f7721b247de08a50eb20.jpg: 640x640 1 Khadin, 1 Pond, 7827.0ms\n",
            "image 72/165 /content/gdrive/MyDrive/YOLOV8/val/images/401_png.rf.2ab079341c489fa6be5e37f55cb8157e.jpg: 640x640 (no detections), 5644.2ms\n",
            "image 73/165 /content/gdrive/MyDrive/YOLOV8/val/images/405_png.rf.f6f00978fbd26e57681b83e3d9162e9e.jpg: 640x640 (no detections), 7703.2ms\n",
            "image 74/165 /content/gdrive/MyDrive/YOLOV8/val/images/410_png.rf.30404491ee5ecdebfaec3875f52238d2.jpg: 640x640 (no detections), 5600.1ms\n",
            "image 75/165 /content/gdrive/MyDrive/YOLOV8/val/images/411_png.rf.3cd9d9d60bf33d6ecb88134900eff230.jpg: 640x640 (no detections), 6789.2ms\n",
            "image 76/165 /content/gdrive/MyDrive/YOLOV8/val/images/414_png.rf.819fc68ed6635d76b20b6579886136fb.jpg: 640x640 (no detections), 6424.9ms\n",
            "image 77/165 /content/gdrive/MyDrive/YOLOV8/val/images/418_png.rf.67e4d50daecbecd39af7c8b36191eff7.jpg: 640x640 3 Khadins, 5615.6ms\n",
            "image 78/165 /content/gdrive/MyDrive/YOLOV8/val/images/420_png.rf.23220be1e441d541d16d1eab737d421e.jpg: 640x640 1 Khadin, 7580.8ms\n",
            "image 79/165 /content/gdrive/MyDrive/YOLOV8/val/images/423_png.rf.b62e8da19642c650361ecc1a836eead0.jpg: 640x640 (no detections), 5635.9ms\n",
            "image 80/165 /content/gdrive/MyDrive/YOLOV8/val/images/430_png.rf.b1cb9bdc60841dc6f70be33ae3ed531b.jpg: 640x640 (no detections), 7719.2ms\n",
            "image 81/165 /content/gdrive/MyDrive/YOLOV8/val/images/434_png.rf.744fc7e8ed675ee9ac320b4261961aa7.jpg: 640x640 (no detections), 5655.5ms\n",
            "image 82/165 /content/gdrive/MyDrive/YOLOV8/val/images/438_png.rf.3e9f9d733f3daf487a7ed297d4232cd6.jpg: 640x640 3 Khadins, 7434.1ms\n",
            "image 83/165 /content/gdrive/MyDrive/YOLOV8/val/images/447_png.rf.7a9df0fa303fdb3e3729fc4dcd12e625.jpg: 640x640 1 Khadin, 5820.4ms\n",
            "image 84/165 /content/gdrive/MyDrive/YOLOV8/val/images/448_png.rf.93ac1c75b75a4adcd7483902421ffc4f.jpg: 640x640 (no detections), 6843.4ms\n",
            "image 85/165 /content/gdrive/MyDrive/YOLOV8/val/images/449_png.rf.69164bc42c2fca908b0f1659d72a5645.jpg: 640x640 (no detections), 8692.6ms\n",
            "image 86/165 /content/gdrive/MyDrive/YOLOV8/val/images/44_png.rf.c44d79d4565d3cc38320493d89b9c2a3.jpg: 640x640 1 Khadin, 1 Pond, 5627.2ms\n",
            "image 87/165 /content/gdrive/MyDrive/YOLOV8/val/images/450_png.rf.f3cdd5ea4f57a47267732d50088a8a6c.jpg: 640x640 (no detections), 8028.5ms\n",
            "image 88/165 /content/gdrive/MyDrive/YOLOV8/val/images/454_png.rf.0f64ef420d8b7477d31aa898e4164a55.jpg: 640x640 2 Khadins, 3 Ponds, 5612.6ms\n",
            "image 89/165 /content/gdrive/MyDrive/YOLOV8/val/images/469_png.rf.03aec5cd4ab72eaa67aa2a28b4140cd8.jpg: 640x640 (no detections), 7668.2ms\n",
            "image 90/165 /content/gdrive/MyDrive/YOLOV8/val/images/474_png.rf.64af9d4fa1b8394cee8de73e3eff547f.jpg: 640x640 1 Khadin, 7738.2ms\n",
            "image 91/165 /content/gdrive/MyDrive/YOLOV8/val/images/480_png.rf.88c7acda99d8f05a6bcc407b98b37283.jpg: 640x640 3 Khadins, 2 Ponds, 6550.9ms\n",
            "image 92/165 /content/gdrive/MyDrive/YOLOV8/val/images/486_png.rf.b2b8ebf428311731636f69708b263877.jpg: 640x640 (no detections), 6679.6ms\n",
            "image 93/165 /content/gdrive/MyDrive/YOLOV8/val/images/503_png.rf.cd2b9f5d5f1b90716c1e448566c27ba9.jpg: 640x640 (no detections), 5583.9ms\n",
            "image 94/165 /content/gdrive/MyDrive/YOLOV8/val/images/506_png.rf.a66eaa705adb36b5ddd2e49cdada8481.jpg: 640x640 1 Khadin, 7691.5ms\n",
            "image 95/165 /content/gdrive/MyDrive/YOLOV8/val/images/508_png.rf.1eea00c0147c20468ec45cc5ac4be922.jpg: 640x640 3 Khadins, 5645.1ms\n",
            "image 96/165 /content/gdrive/MyDrive/YOLOV8/val/images/50_png.rf.a6ea83194ecf4f3be5929a33170bce67.jpg: 640x640 (no detections), 7698.4ms\n",
            "image 97/165 /content/gdrive/MyDrive/YOLOV8/val/images/521_png.rf.ff886187183cdac989bf3cdbe03941be.jpg: 640x640 (no detections), 5590.1ms\n",
            "image 98/165 /content/gdrive/MyDrive/YOLOV8/val/images/522_png.rf.6a406f8871fdd0e3718048670086c084.jpg: 640x640 2 Khadins, 1 Pond, 6762.4ms\n",
            "image 99/165 /content/gdrive/MyDrive/YOLOV8/val/images/525_png.rf.700b5fa58988c2384d59d2fa25e858c4.jpg: 640x640 1 Khadin, 6395.9ms\n",
            "image 100/165 /content/gdrive/MyDrive/YOLOV8/val/images/528_png.rf.85887f04ccf6ae45dfd6d069a6a215e2.jpg: 640x640 (no detections), 5639.0ms\n",
            "image 101/165 /content/gdrive/MyDrive/YOLOV8/val/images/531_png.rf.f35dfb983d3c911df7cfc450261e59c5.jpg: 640x640 2 Khadins, 7634.9ms\n",
            "image 102/165 /content/gdrive/MyDrive/YOLOV8/val/images/533_png.rf.b25a87ac88fd4654f765c296d1866d41.jpg: 640x640 2 Khadins, 5668.0ms\n",
            "image 103/165 /content/gdrive/MyDrive/YOLOV8/val/images/536_png.rf.efe57f290f4bb7ab10c0f2d6d7314b5b.jpg: 640x640 1 Khadin, 7790.1ms\n",
            "image 104/165 /content/gdrive/MyDrive/YOLOV8/val/images/537_png.rf.7c851dc894ebdaafcb1d0cd62ee1db1e.jpg: 640x640 (no detections), 5645.9ms\n",
            "image 105/165 /content/gdrive/MyDrive/YOLOV8/val/images/554_png.rf.aa85698db212587402eb02c8598dce6b.jpg: 640x640 1 Khadin, 7425.8ms\n",
            "image 106/165 /content/gdrive/MyDrive/YOLOV8/val/images/565_png.rf.a4560b5cdc443e2e808229bd5816465c.jpg: 640x640 (no detections), 5901.0ms\n",
            "image 107/165 /content/gdrive/MyDrive/YOLOV8/val/images/574_png.rf.babd50e82936e6566c32cff75c7e7a61.jpg: 640x640 (no detections), 6290.0ms\n",
            "image 108/165 /content/gdrive/MyDrive/YOLOV8/val/images/575_png.rf.a8eebcebd9b7a56bb0b8628294ff4440.jpg: 640x640 (no detections), 7200.1ms\n",
            "image 109/165 /content/gdrive/MyDrive/YOLOV8/val/images/579_png.rf.cba26908abad8666784b9698ef3ac0ae.jpg: 640x640 (no detections), 6174.1ms\n",
            "image 110/165 /content/gdrive/MyDrive/YOLOV8/val/images/581_png.rf.be37ddfff8cb928467450a92e53b7b46.jpg: 640x640 (no detections), 7764.1ms\n",
            "image 111/165 /content/gdrive/MyDrive/YOLOV8/val/images/587_png.rf.ef70dcf216161bb8dc1fdbccdfab2347.jpg: 640x640 (no detections), 5617.4ms\n",
            "image 112/165 /content/gdrive/MyDrive/YOLOV8/val/images/590_png.rf.d6440eb3a64500075b86946bd8d70e2d.jpg: 640x640 (no detections), 7782.1ms\n",
            "image 113/165 /content/gdrive/MyDrive/YOLOV8/val/images/61_png.rf.57059b926297405f46c1b537ec4d6f1f.jpg: 640x640 1 Khadin, 5610.9ms\n",
            "image 114/165 /content/gdrive/MyDrive/YOLOV8/val/images/64_png.rf.bfedbec5a1857ea677aff488c2c7fe9f.jpg: 640x640 1 Pond, 7231.5ms\n",
            "image 115/165 /content/gdrive/MyDrive/YOLOV8/val/images/65_png.rf.7f0a5cc6ca3cce99b55c03c24d4b4ad2.jpg: 640x640 1 Pond, 5985.2ms\n",
            "image 116/165 /content/gdrive/MyDrive/YOLOV8/val/images/71_png.rf.baf818a21979b29d90d9c50942e7fb33.jpg: 640x640 (no detections), 6055.9ms\n",
            "image 117/165 /content/gdrive/MyDrive/YOLOV8/val/images/77_png.rf.ec6219b0367e8c25f269687ea9817c6d.jpg: 640x640 (no detections), 7257.6ms\n",
            "image 118/165 /content/gdrive/MyDrive/YOLOV8/val/images/83_png.rf.6d65ac238cf5bae1852e8a5ffa4f9761.jpg: 640x640 1 Khadin, 1 Pond, 5664.8ms\n",
            "image 119/165 /content/gdrive/MyDrive/YOLOV8/val/images/84_png.rf.be58844007ef0fe62d250c2bf19186ba.jpg: 640x640 3 Khadins, 7831.4ms\n",
            "image 120/165 /content/gdrive/MyDrive/YOLOV8/val/images/8_png.rf.d5c4724500dc92b4688c4b3039972683.jpg: 640x640 2 Khadins, 5624.0ms\n",
            "image 121/165 /content/gdrive/MyDrive/YOLOV8/val/images/93_png.rf.4665c3d10e98d2a4b176e4af2e90203f.jpg: 640x640 1 Pond, 7853.4ms\n",
            "image 122/165 /content/gdrive/MyDrive/YOLOV8/val/images/96_png.rf.8264c129e2de1bdab914aa190ef4ba81.jpg: 640x640 1 Khadin, 1 Pond, 5658.1ms\n",
            "image 123/165 /content/gdrive/MyDrive/YOLOV8/val/images/98_png.rf.a3819790f5fb115eb88a906bc423aad0.jpg: 640x640 3 Khadins, 3 Ponds, 6708.2ms\n",
            "image 124/165 /content/gdrive/MyDrive/YOLOV8/val/images/Screenshot-2023-01-14-at-11-06-18-AM_png.rf.1ae6fb1e7027c3c30ee500252c2eedf3.jpg: 640x640 (no detections), 6538.6ms\n",
            "image 125/165 /content/gdrive/MyDrive/YOLOV8/val/images/Screenshot-2023-01-14-at-11-06-45-AM_png.rf.d84c864ae0913592fa575292603091ce.jpg: 640x640 (no detections), 5585.6ms\n",
            "image 126/165 /content/gdrive/MyDrive/YOLOV8/val/images/Screenshot-2023-01-14-at-11-08-29-AM_png.rf.43292770a37329a76d67fb5df425f42f.jpg: 640x640 (no detections), 7774.0ms\n",
            "image 127/165 /content/gdrive/MyDrive/YOLOV8/val/images/Screenshot-2023-01-14-at-11-09-21-AM_png.rf.fc0cd8e4cfa385cddf6db8d82560249e.jpg: 640x640 (no detections), 6109.1ms\n",
            "image 128/165 /content/gdrive/MyDrive/YOLOV8/val/images/Screenshot-2023-01-15-at-11-56-49-AM_png.rf.c2cbd9f91466ecc5e809e1b7284e777f.jpg: 640x640 (no detections), 9438.9ms\n",
            "image 129/165 /content/gdrive/MyDrive/YOLOV8/val/images/Screenshot-2023-01-15-at-12-00-51-PM_png.rf.d2ff75fcff20383fb86c0033dba3d10d.jpg: 640x640 (no detections), 5605.9ms\n",
            "image 130/165 /content/gdrive/MyDrive/YOLOV8/val/images/Screenshot-2023-01-15-at-12-15-02-PM_png.rf.c869fdbe8f497e82b052134f590d4652.jpg: 640x640 (no detections), 7223.6ms\n",
            "image 131/165 /content/gdrive/MyDrive/YOLOV8/val/images/Screenshot-2023-01-15-at-12-16-05-PM_png.rf.61dab6456e84f282810cec699b0674e5.jpg: 640x640 (no detections), 6200.2ms\n",
            "image 132/165 /content/gdrive/MyDrive/YOLOV8/val/images/Screenshot-2023-01-15-at-12-19-03-PM_png.rf.e4661d6427fa7b2bc6f128d5cd6b51ac.jpg: 640x640 (no detections), 5940.5ms\n",
            "image 133/165 /content/gdrive/MyDrive/YOLOV8/val/images/Screenshot-2023-01-15-at-12-19-53-PM_png.rf.da163850135c35c71c245a417c6495e2.jpg: 640x640 (no detections), 7302.3ms\n",
            "image 134/165 /content/gdrive/MyDrive/YOLOV8/val/images/Screenshot-2023-01-15-at-12-27-05-PM_png.rf.044dd962e0ce15dd7fe987c34da90f38.jpg: 640x640 (no detections), 5605.9ms\n",
            "image 135/165 /content/gdrive/MyDrive/YOLOV8/val/images/Screenshot-2023-01-15-at-12-41-23-PM_png.rf.df8a9c8e6d6e6ff544171e93d17afdc1.jpg: 640x640 (no detections), 7845.4ms\n",
            "image 136/165 /content/gdrive/MyDrive/YOLOV8/val/images/Screenshot-2023-01-15-at-12-43-20-PM_png.rf.abeb392a78cb92508fe825370cd2b84f.jpg: 640x640 (no detections), 5628.8ms\n",
            "image 137/165 /content/gdrive/MyDrive/YOLOV8/val/images/Screenshot-2023-01-15-at-12-47-44-PM_png.rf.156b343352464db21cfaef25417afa52.jpg: 640x640 (no detections), 7573.4ms\n",
            "image 138/165 /content/gdrive/MyDrive/YOLOV8/val/images/Screenshot-2023-01-15-at-12-52-39-PM_png.rf.cabf986a51f9e34443470423192dd711.jpg: 640x640 1 Pond, 5750.1ms\n",
            "image 139/165 /content/gdrive/MyDrive/YOLOV8/val/images/Screenshot-2023-01-15-at-12-53-46-PM_png.rf.1b3de429505b6ffa0dcff9404dae13a0.jpg: 640x640 (no detections), 6585.6ms\n",
            "image 140/165 /content/gdrive/MyDrive/YOLOV8/val/images/Screenshot-2023-01-15-at-2-56-06-PM_png.rf.f8aba21c51971c3e9d0e28b39ad614f1.jpg: 640x640 (no detections), 6824.8ms\n",
            "image 141/165 /content/gdrive/MyDrive/YOLOV8/val/images/Screenshot-2023-01-15-at-2-57-59-PM_png.rf.044693ef01f01b4ef0a5ff6795b3336c.jpg: 640x640 (no detections), 5629.3ms\n",
            "image 142/165 /content/gdrive/MyDrive/YOLOV8/val/images/Screenshot-2023-01-15-at-2-58-12-PM_png.rf.2ffbd71064cf82919264e47ee417244f.jpg: 640x640 (no detections), 7713.5ms\n",
            "image 143/165 /content/gdrive/MyDrive/YOLOV8/val/images/Screenshot-2023-01-15-at-3-05-32-PM_png.rf.c8d9bc3d8008e5428cf8331261fc9175.jpg: 640x640 (no detections), 5654.4ms\n",
            "image 144/165 /content/gdrive/MyDrive/YOLOV8/val/images/Screenshot-2023-01-15-at-3-08-34-PM_png.rf.065a20ee4606a47e6f9fd8699a91c3b4.jpg: 640x640 (no detections), 7810.4ms\n",
            "image 145/165 /content/gdrive/MyDrive/YOLOV8/val/images/Screenshot-2023-01-15-at-3-10-16-PM_png.rf.bfe5c943cbd8a39f9db10c3dbaf2f03c.jpg: 640x640 (no detections), 5646.9ms\n",
            "image 146/165 /content/gdrive/MyDrive/YOLOV8/val/images/Screenshot-2023-01-15-at-3-14-44-PM_png.rf.08ead5979722acd3ee1a49692efb2626.jpg: 640x640 (no detections), 7030.3ms\n",
            "image 147/165 /content/gdrive/MyDrive/YOLOV8/val/images/Screenshot-2023-01-15-at-3-45-50-PM_png.rf.eb976b8d5bc66d3ec30159da1fc77eca.jpg: 640x640 (no detections), 6265.7ms\n",
            "image 148/165 /content/gdrive/MyDrive/YOLOV8/val/images/Screenshot-2023-01-15-at-3-51-03-PM_png.rf.dfbeb9ee338d7847eb634f3d9f3b7dda.jpg: 640x640 (no detections), 5849.6ms\n",
            "image 149/165 /content/gdrive/MyDrive/YOLOV8/val/images/Screenshot-2023-01-15-at-3-53-36-PM_png.rf.f51e7f1796daf0a3789c992cb5696fcc.jpg: 640x640 (no detections), 7489.6ms\n",
            "image 150/165 /content/gdrive/MyDrive/YOLOV8/val/images/Screenshot-2023-01-15-at-3-59-52-PM_png.rf.f8df9c83138c82259ca95c7f07de3bd7.jpg: 640x640 (no detections), 5618.8ms\n",
            "image 151/165 /content/gdrive/MyDrive/YOLOV8/val/images/Screenshot-2023-01-15-at-4-07-42-PM_png.rf.4ec992f4ba4294d78dc580be6afe6d54.jpg: 640x640 (no detections), 7750.3ms\n",
            "image 152/165 /content/gdrive/MyDrive/YOLOV8/val/images/Screenshot-2023-01-15-at-4-07-53-PM_png.rf.c9a2ec4c3dc98faf240cbd7f1f351f7e.jpg: 640x640 (no detections), 5593.5ms\n",
            "image 153/165 /content/gdrive/MyDrive/YOLOV8/val/images/Screenshot-2023-01-15-at-4-12-54-PM_png.rf.43d91b41692db280589f8f16b506ed13.jpg: 640x640 (no detections), 7610.8ms\n",
            "image 154/165 /content/gdrive/MyDrive/YOLOV8/val/images/Screenshot-2023-01-15-at-4-31-42-PM_png.rf.617257a1cd60c41087b0d0df4fe78f70.jpg: 640x640 (no detections), 5754.2ms\n",
            "image 155/165 /content/gdrive/MyDrive/YOLOV8/val/images/Screenshot-2023-01-15-at-4-39-09-PM_png.rf.5f29d6a56644bfcf62af9b7d8318e767.jpg: 640x640 (no detections), 6324.4ms\n",
            "image 156/165 /content/gdrive/MyDrive/YOLOV8/val/images/Screenshot-2023-01-15-at-4-40-37-PM_png.rf.e50ec13509f0e7eb45c6fd8002069e88.jpg: 640x640 (no detections), 6852.6ms\n",
            "image 157/165 /content/gdrive/MyDrive/YOLOV8/val/images/Screenshot-2023-01-15-at-4-56-44-PM_png.rf.834b10318995b2e52422dcdec0aa18c7.jpg: 640x640 1 Pond, 5610.3ms\n",
            "image 158/165 /content/gdrive/MyDrive/YOLOV8/val/images/Screenshot-2023-01-15-at-5-01-11-PM_png.rf.54f29ffccdf90d5d959863709bc09471.jpg: 640x640 (no detections), 7829.8ms\n",
            "image 159/165 /content/gdrive/MyDrive/YOLOV8/val/images/Screenshot-2023-01-15-at-5-13-08-PM_png.rf.044bea5e366ea729d6860e2f47d94e00.jpg: 640x640 (no detections), 5599.2ms\n",
            "image 160/165 /content/gdrive/MyDrive/YOLOV8/val/images/Screenshot-2023-01-15-at-5-54-09-PM_png.rf.bd369d82d91bd0cf6d1faafaf1d17203.jpg: 640x640 (no detections), 7733.9ms\n",
            "image 161/165 /content/gdrive/MyDrive/YOLOV8/val/images/Screenshot-2023-01-15-at-5-55-08-PM_png.rf.1f6bfee2e82de6c224757ab0324f7976.jpg: 640x640 (no detections), 5578.2ms\n",
            "image 162/165 /content/gdrive/MyDrive/YOLOV8/val/images/Screenshot-2023-01-15-at-6-02-49-PM_png.rf.12bb4e2f1ccc47e653dbf30d442c0070.jpg: 640x640 (no detections), 6701.5ms\n",
            "image 163/165 /content/gdrive/MyDrive/YOLOV8/val/images/Screenshot-2023-01-15-at-6-02-59-PM_png.rf.9701fb3ef856dc8c327736ffe3b35b06.jpg: 640x640 (no detections), 6522.5ms\n",
            "image 164/165 /content/gdrive/MyDrive/YOLOV8/val/images/Screenshot-2023-01-15-at-6-08-46-PM_png.rf.5e5fe3a21543a7ea39c1fe155b822c93.jpg: 640x640 (no detections), 5632.1ms\n",
            "image 165/165 /content/gdrive/MyDrive/YOLOV8/val/images/Screenshot-2023-01-15-at-6-51-19-PM_png.rf.eca6da295ed082488eaecd014ee0b4f2.jpg: 640x640 (no detections), 7660.8ms\n",
            "Speed: 1.4ms preprocess, 6592.0ms inference, 3.8ms postprocess per image at shape (1, 3, 640, 640)\n",
            "Results saved to \u001b[1mruns/segment/predict\u001b[0m\n"
          ]
        }
      ]
    },
    {
      "cell_type": "code",
      "source": [],
      "metadata": {
        "id": "LBWN8XmSL5bb"
      },
      "execution_count": null,
      "outputs": []
    }
  ]
}